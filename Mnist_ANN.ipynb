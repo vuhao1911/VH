{
  "nbformat": 4,
  "nbformat_minor": 0,
  "metadata": {
    "colab": {
      "name": "Mnist_ANN.ipynb",
      "provenance": [],
      "collapsed_sections": []
    },
    "kernelspec": {
      "name": "python3",
      "display_name": "Python 3"
    },
    "language_info": {
      "name": "python"
    },
    "accelerator": "GPU"
  },
  "cells": [
    {
      "cell_type": "code",
      "execution_count": null,
      "metadata": {
        "colab": {
          "base_uri": "https://localhost:8080/"
        },
        "id": "Q2Q-lXDjJkVV",
        "outputId": "7c3cc625-b09b-4741-fbc3-a4a207821903"
      },
      "outputs": [
        {
          "output_type": "stream",
          "name": "stdout",
          "text": [
            "Downloading data from https://storage.googleapis.com/tensorflow/tf-keras-datasets/mnist.npz\n",
            "11493376/11490434 [==============================] - 0s 0us/step\n",
            "11501568/11490434 [==============================] - 0s 0us/step\n"
          ]
        }
      ],
      "source": [
        "from keras.datasets import mnist\n",
        "(X_train,y_train),(X_test,y_test)=mnist.load_data()\n",
        "import matplotlib.pyplot as plt"
      ]
    },
    {
      "cell_type": "code",
      "source": [
        "for i in range(9):\n",
        " plt.subplot(330+i+1)\n",
        " plt.imshow(X_train[i])\n",
        "plt.show()"
      ],
      "metadata": {
        "colab": {
          "base_uri": "https://localhost:8080/",
          "height": 268
        },
        "id": "CZGZJbuILW49",
        "outputId": "f1455c97-8f0b-471c-9ce3-5090723dc48c"
      },
      "execution_count": null,
      "outputs": [
        {
          "output_type": "display_data",
          "data": {
            "text/plain": [
              "<Figure size 432x288 with 9 Axes>"
            ],
            "image/png": "[encoded data removed]"
          },
          "metadata": {
            "needs_background": "light"
          }
        }
      ]
    },
    {
      "cell_type": "code",
      "source": [
        "X = X_test\n",
        "X_train =X_train.reshape(60000,784)\n",
        "X_test = X_test.reshape(10000,784)\n",
        "X_train = X_train.astype('float32')\n",
        "X_test = X_test.astype('float32')\n",
        "X_train/=255\n",
        "X_test/=255"
      ],
      "metadata": {
        "id": "0Uiq7_UOLwv4"
      },
      "execution_count": null,
      "outputs": []
    },
    {
      "cell_type": "code",
      "source": [
        "from tensorflow.keras.utils import to_categorical\n",
        "y_train=to_categorical(y_train,10)\n",
        "y_test=to_categorical(y_test,10)"
      ],
      "metadata": {
        "id": "5zXmeJWtL2Ri"
      },
      "execution_count": null,
      "outputs": []
    },
    {
      "cell_type": "code",
      "source": [
        "from keras.models import Sequential\n",
        "from keras.layers import Dense,Activation,Dropout"
      ],
      "metadata": {
        "id": "othIvocFL5Bx"
      },
      "execution_count": null,
      "outputs": []
    },
    {
      "cell_type": "code",
      "source": [
        "model = Sequential()\n",
        "model.add(Dense(512,activation='relu',input_shape=(784,)))\n",
        "model.add(Dropout(0.2))\n",
        "model.add(Dense(512,activation='relu'))\n",
        "model.add(Dropout(0.1))\n",
        "model.add(Dense(10,activation=\"softmax\"))\n",
        "model.summary()"
      ],
      "metadata": {
        "colab": {
          "base_uri": "https://localhost:8080/"
        },
        "id": "C_MLYn8aL8Cn",
        "outputId": "8e5eac06-7920-45b2-e837-bb2db6c393d3"
      },
      "execution_count": null,
      "outputs": [
        {
          "output_type": "stream",
          "name": "stdout",
          "text": [
            "Model: \"sequential\"\n",
            "_________________________________________________________________\n",
            " Layer (type)                Output Shape              Param #   \n",
            "=================================================================\n",
            " dense (Dense)               (None, 512)               401920    \n",
            "                                                                 \n",
            " dropout (Dropout)           (None, 512)               0         \n",
            "                                                                 \n",
            " dense_1 (Dense)             (None, 512)               262656    \n",
            "                                                                 \n",
            " dropout_1 (Dropout)         (None, 512)               0         \n",
            "                                                                 \n",
            " dense_2 (Dense)             (None, 10)                5130      \n",
            "                                                                 \n",
            "=================================================================\n",
            "Total params: 669,706\n",
            "Trainable params: 669,706\n",
            "Non-trainable params: 0\n",
            "_________________________________________________________________\n"
          ]
        }
      ]
    },
    {
      "cell_type": "code",
      "source": [
        "from tensorflow.keras.optimizers import RMSprop\n",
        "model.compile(loss='categorical_crossentropy',optimizer=RMSprop(),metrics=['accuracy'])"
      ],
      "metadata": {
        "id": "wm1OHt-8L-to"
      },
      "execution_count": null,
      "outputs": []
    },
    {
      "cell_type": "code",
      "source": [
        "history = model.fit(X_train, y_train, batch_size=128,epochs =200, verbose=1,validation_data=(X_test,y_test))"
      ],
      "metadata": {
        "colab": {
          "base_uri": "https://localhost:8080/"
        },
        "id": "7IJUdeaCMD29",
        "outputId": "2995dde5-c706-4bb0-820e-c16058090bd9"
      },
      "execution_count": null,
      "outputs": [
        {
          "output_type": "stream",
          "name": "stdout",
          "text": [
            "Epoch 1/200\n",
            "469/469 [==============================] - 5s 5ms/step - loss: 0.2434 - accuracy: 0.9251 - val_loss: 0.1043 - val_accuracy: 0.9678\n",
            "Epoch 2/200\n",
            "469/469 [==============================] - 2s 4ms/step - loss: 0.0986 - accuracy: 0.9701 - val_loss: 0.0819 - val_accuracy: 0.9754\n",
            "Epoch 3/200\n",
            "469/469 [==============================] - 2s 4ms/step - loss: 0.0743 - accuracy: 0.9769 - val_loss: 0.0949 - val_accuracy: 0.9736\n",
            "Epoch 4/200\n",
            "469/469 [==============================] - 2s 4ms/step - loss: 0.0578 - accuracy: 0.9826 - val_loss: 0.0752 - val_accuracy: 0.9781\n",
            "Epoch 5/200\n",
            "469/469 [==============================] - 2s 4ms/step - loss: 0.0486 - accuracy: 0.9852 - val_loss: 0.0695 - val_accuracy: 0.9826\n",
            "Epoch 6/200\n",
            "469/469 [==============================] - 2s 4ms/step - loss: 0.0414 - accuracy: 0.9875 - val_loss: 0.0715 - val_accuracy: 0.9813\n",
            "Epoch 7/200\n",
            "469/469 [==============================] - 2s 4ms/step - loss: 0.0357 - accuracy: 0.9895 - val_loss: 0.0855 - val_accuracy: 0.9799\n",
            "Epoch 8/200\n",
            "469/469 [==============================] - 2s 5ms/step - loss: 0.0318 - accuracy: 0.9904 - val_loss: 0.0797 - val_accuracy: 0.9821\n",
            "Epoch 9/200\n",
            "469/469 [==============================] - 2s 4ms/step - loss: 0.0300 - accuracy: 0.9912 - val_loss: 0.0775 - val_accuracy: 0.9839\n",
            "Epoch 10/200\n",
            "469/469 [==============================] - 2s 4ms/step - loss: 0.0263 - accuracy: 0.9918 - val_loss: 0.0904 - val_accuracy: 0.9819\n",
            "Epoch 11/200\n",
            "469/469 [==============================] - 2s 4ms/step - loss: 0.0249 - accuracy: 0.9926 - val_loss: 0.0878 - val_accuracy: 0.9844\n",
            "Epoch 12/200\n",
            "469/469 [==============================] - 2s 4ms/step - loss: 0.0216 - accuracy: 0.9932 - val_loss: 0.0913 - val_accuracy: 0.9834\n",
            "Epoch 13/200\n",
            "469/469 [==============================] - 2s 4ms/step - loss: 0.0234 - accuracy: 0.9936 - val_loss: 0.0976 - val_accuracy: 0.9838\n",
            "Epoch 14/200\n",
            "469/469 [==============================] - 2s 4ms/step - loss: 0.0206 - accuracy: 0.9943 - val_loss: 0.0982 - val_accuracy: 0.9841\n",
            "Epoch 15/200\n",
            "469/469 [==============================] - 2s 4ms/step - loss: 0.0196 - accuracy: 0.9943 - val_loss: 0.1175 - val_accuracy: 0.9833\n",
            "Epoch 16/200\n",
            "469/469 [==============================] - 2s 4ms/step - loss: 0.0172 - accuracy: 0.9952 - val_loss: 0.1185 - val_accuracy: 0.9839\n",
            "Epoch 17/200\n",
            "469/469 [==============================] - 2s 4ms/step - loss: 0.0168 - accuracy: 0.9954 - val_loss: 0.1435 - val_accuracy: 0.9802\n",
            "Epoch 18/200\n",
            "469/469 [==============================] - 2s 4ms/step - loss: 0.0170 - accuracy: 0.9952 - val_loss: 0.1285 - val_accuracy: 0.9803\n",
            "Epoch 19/200\n",
            "469/469 [==============================] - 2s 4ms/step - loss: 0.0168 - accuracy: 0.9955 - val_loss: 0.1195 - val_accuracy: 0.9813\n",
            "Epoch 20/200\n",
            "469/469 [==============================] - 2s 4ms/step - loss: 0.0162 - accuracy: 0.9956 - val_loss: 0.1273 - val_accuracy: 0.9834\n",
            "Epoch 21/200\n",
            "469/469 [==============================] - 2s 4ms/step - loss: 0.0148 - accuracy: 0.9959 - val_loss: 0.1327 - val_accuracy: 0.9833\n",
            "Epoch 22/200\n",
            "469/469 [==============================] - 2s 4ms/step - loss: 0.0149 - accuracy: 0.9961 - val_loss: 0.1432 - val_accuracy: 0.9822\n",
            "Epoch 23/200\n",
            "469/469 [==============================] - 2s 4ms/step - loss: 0.0147 - accuracy: 0.9961 - val_loss: 0.1303 - val_accuracy: 0.9841\n",
            "Epoch 24/200\n",
            "469/469 [==============================] - 2s 4ms/step - loss: 0.0136 - accuracy: 0.9965 - val_loss: 0.1455 - val_accuracy: 0.9842\n",
            "Epoch 25/200\n",
            "469/469 [==============================] - 2s 4ms/step - loss: 0.0137 - accuracy: 0.9965 - val_loss: 0.1516 - val_accuracy: 0.9827\n",
            "Epoch 26/200\n",
            "469/469 [==============================] - 2s 4ms/step - loss: 0.0158 - accuracy: 0.9962 - val_loss: 0.1408 - val_accuracy: 0.9844\n",
            "Epoch 27/200\n",
            "469/469 [==============================] - 2s 4ms/step - loss: 0.0133 - accuracy: 0.9968 - val_loss: 0.1623 - val_accuracy: 0.9823\n",
            "Epoch 28/200\n",
            "469/469 [==============================] - 2s 4ms/step - loss: 0.0144 - accuracy: 0.9965 - val_loss: 0.1510 - val_accuracy: 0.9823\n",
            "Epoch 29/200\n",
            "469/469 [==============================] - 2s 4ms/step - loss: 0.0134 - accuracy: 0.9969 - val_loss: 0.1732 - val_accuracy: 0.9834\n",
            "Epoch 30/200\n",
            "469/469 [==============================] - 2s 4ms/step - loss: 0.0153 - accuracy: 0.9968 - val_loss: 0.1571 - val_accuracy: 0.9845\n",
            "Epoch 31/200\n",
            "469/469 [==============================] - 2s 4ms/step - loss: 0.0119 - accuracy: 0.9971 - val_loss: 0.1620 - val_accuracy: 0.9834\n",
            "Epoch 32/200\n",
            "469/469 [==============================] - 2s 4ms/step - loss: 0.0113 - accuracy: 0.9973 - val_loss: 0.1617 - val_accuracy: 0.9835\n",
            "Epoch 33/200\n",
            "469/469 [==============================] - 2s 4ms/step - loss: 0.0143 - accuracy: 0.9970 - val_loss: 0.1565 - val_accuracy: 0.9837\n",
            "Epoch 34/200\n",
            "469/469 [==============================] - 2s 4ms/step - loss: 0.0113 - accuracy: 0.9972 - val_loss: 0.1643 - val_accuracy: 0.9838\n",
            "Epoch 35/200\n",
            "469/469 [==============================] - 2s 4ms/step - loss: 0.0112 - accuracy: 0.9976 - val_loss: 0.1628 - val_accuracy: 0.9827\n",
            "Epoch 36/200\n",
            "469/469 [==============================] - 2s 4ms/step - loss: 0.0130 - accuracy: 0.9968 - val_loss: 0.1715 - val_accuracy: 0.9829\n",
            "Epoch 37/200\n",
            "469/469 [==============================] - 2s 4ms/step - loss: 0.0126 - accuracy: 0.9975 - val_loss: 0.1796 - val_accuracy: 0.9832\n",
            "Epoch 38/200\n",
            "469/469 [==============================] - 2s 4ms/step - loss: 0.0113 - accuracy: 0.9976 - val_loss: 0.1884 - val_accuracy: 0.9831\n",
            "Epoch 39/200\n",
            "469/469 [==============================] - 2s 5ms/step - loss: 0.0084 - accuracy: 0.9978 - val_loss: 0.1753 - val_accuracy: 0.9838\n",
            "Epoch 40/200\n",
            "469/469 [==============================] - 2s 4ms/step - loss: 0.0106 - accuracy: 0.9975 - val_loss: 0.1661 - val_accuracy: 0.9849\n",
            "Epoch 41/200\n",
            "469/469 [==============================] - 2s 4ms/step - loss: 0.0097 - accuracy: 0.9978 - val_loss: 0.1941 - val_accuracy: 0.9845\n",
            "Epoch 42/200\n",
            "469/469 [==============================] - 2s 5ms/step - loss: 0.0101 - accuracy: 0.9975 - val_loss: 0.1859 - val_accuracy: 0.9823\n",
            "Epoch 43/200\n",
            "469/469 [==============================] - 2s 4ms/step - loss: 0.0105 - accuracy: 0.9978 - val_loss: 0.1996 - val_accuracy: 0.9841\n",
            "Epoch 44/200\n",
            "469/469 [==============================] - 2s 4ms/step - loss: 0.0110 - accuracy: 0.9977 - val_loss: 0.1924 - val_accuracy: 0.9836\n",
            "Epoch 45/200\n",
            "469/469 [==============================] - 2s 4ms/step - loss: 0.0094 - accuracy: 0.9981 - val_loss: 0.2008 - val_accuracy: 0.9820\n",
            "Epoch 46/200\n",
            "469/469 [==============================] - 2s 4ms/step - loss: 0.0110 - accuracy: 0.9977 - val_loss: 0.1804 - val_accuracy: 0.9840\n",
            "Epoch 47/200\n",
            "469/469 [==============================] - 2s 4ms/step - loss: 0.0093 - accuracy: 0.9980 - val_loss: 0.1753 - val_accuracy: 0.9849\n",
            "Epoch 48/200\n",
            "469/469 [==============================] - 2s 4ms/step - loss: 0.0086 - accuracy: 0.9979 - val_loss: 0.2140 - val_accuracy: 0.9839\n",
            "Epoch 49/200\n",
            "469/469 [==============================] - 2s 4ms/step - loss: 0.0080 - accuracy: 0.9979 - val_loss: 0.2072 - val_accuracy: 0.9845\n",
            "Epoch 50/200\n",
            "469/469 [==============================] - 2s 4ms/step - loss: 0.0110 - accuracy: 0.9977 - val_loss: 0.2215 - val_accuracy: 0.9830\n",
            "Epoch 51/200\n",
            "469/469 [==============================] - 2s 4ms/step - loss: 0.0084 - accuracy: 0.9979 - val_loss: 0.2110 - val_accuracy: 0.9837\n",
            "Epoch 52/200\n",
            "469/469 [==============================] - 2s 4ms/step - loss: 0.0097 - accuracy: 0.9980 - val_loss: 0.1964 - val_accuracy: 0.9850\n",
            "Epoch 53/200\n",
            "469/469 [==============================] - 2s 4ms/step - loss: 0.0112 - accuracy: 0.9976 - val_loss: 0.1962 - val_accuracy: 0.9847\n",
            "Epoch 54/200\n",
            "469/469 [==============================] - 2s 4ms/step - loss: 0.0097 - accuracy: 0.9980 - val_loss: 0.1889 - val_accuracy: 0.9839\n",
            "Epoch 55/200\n",
            "469/469 [==============================] - 2s 4ms/step - loss: 0.0076 - accuracy: 0.9982 - val_loss: 0.2040 - val_accuracy: 0.9849\n",
            "Epoch 56/200\n",
            "469/469 [==============================] - 2s 4ms/step - loss: 0.0071 - accuracy: 0.9984 - val_loss: 0.2151 - val_accuracy: 0.9850\n",
            "Epoch 57/200\n",
            "469/469 [==============================] - 2s 4ms/step - loss: 0.0099 - accuracy: 0.9983 - val_loss: 0.2034 - val_accuracy: 0.9856\n",
            "Epoch 58/200\n",
            "469/469 [==============================] - 2s 4ms/step - loss: 0.0117 - accuracy: 0.9979 - val_loss: 0.2128 - val_accuracy: 0.9854\n",
            "Epoch 59/200\n",
            "469/469 [==============================] - 2s 4ms/step - loss: 0.0083 - accuracy: 0.9983 - val_loss: 0.2053 - val_accuracy: 0.9850\n",
            "Epoch 60/200\n",
            "469/469 [==============================] - 2s 4ms/step - loss: 0.0084 - accuracy: 0.9981 - val_loss: 0.2347 - val_accuracy: 0.9850\n",
            "Epoch 61/200\n",
            "469/469 [==============================] - 2s 4ms/step - loss: 0.0117 - accuracy: 0.9980 - val_loss: 0.2123 - val_accuracy: 0.9848\n",
            "Epoch 62/200\n",
            "469/469 [==============================] - 2s 4ms/step - loss: 0.0093 - accuracy: 0.9984 - val_loss: 0.2198 - val_accuracy: 0.9850\n",
            "Epoch 63/200\n",
            "469/469 [==============================] - 2s 4ms/step - loss: 0.0109 - accuracy: 0.9980 - val_loss: 0.2168 - val_accuracy: 0.9841\n",
            "Epoch 64/200\n",
            "469/469 [==============================] - 2s 4ms/step - loss: 0.0095 - accuracy: 0.9980 - val_loss: 0.2506 - val_accuracy: 0.9834\n",
            "Epoch 65/200\n",
            "469/469 [==============================] - 2s 4ms/step - loss: 0.0109 - accuracy: 0.9982 - val_loss: 0.2287 - val_accuracy: 0.9832\n",
            "Epoch 66/200\n",
            "469/469 [==============================] - 2s 4ms/step - loss: 0.0098 - accuracy: 0.9984 - val_loss: 0.2521 - val_accuracy: 0.9829\n",
            "Epoch 67/200\n",
            "469/469 [==============================] - 2s 4ms/step - loss: 0.0088 - accuracy: 0.9983 - val_loss: 0.2422 - val_accuracy: 0.9826\n",
            "Epoch 68/200\n",
            "469/469 [==============================] - 2s 4ms/step - loss: 0.0133 - accuracy: 0.9981 - val_loss: 0.2366 - val_accuracy: 0.9830\n",
            "Epoch 69/200\n",
            "469/469 [==============================] - 2s 4ms/step - loss: 0.0080 - accuracy: 0.9984 - val_loss: 0.2262 - val_accuracy: 0.9837\n",
            "Epoch 70/200\n",
            "469/469 [==============================] - 2s 4ms/step - loss: 0.0098 - accuracy: 0.9979 - val_loss: 0.2173 - val_accuracy: 0.9846\n",
            "Epoch 71/200\n",
            "469/469 [==============================] - 2s 4ms/step - loss: 0.0070 - accuracy: 0.9985 - val_loss: 0.2567 - val_accuracy: 0.9827\n",
            "Epoch 72/200\n",
            "469/469 [==============================] - 2s 4ms/step - loss: 0.0076 - accuracy: 0.9984 - val_loss: 0.2415 - val_accuracy: 0.9838\n",
            "Epoch 73/200\n",
            "469/469 [==============================] - 2s 4ms/step - loss: 0.0075 - accuracy: 0.9984 - val_loss: 0.2115 - val_accuracy: 0.9849\n",
            "Epoch 74/200\n",
            "469/469 [==============================] - 2s 4ms/step - loss: 0.0091 - accuracy: 0.9984 - val_loss: 0.2410 - val_accuracy: 0.9837\n",
            "Epoch 75/200\n",
            "469/469 [==============================] - 2s 4ms/step - loss: 0.0068 - accuracy: 0.9986 - val_loss: 0.2540 - val_accuracy: 0.9838\n",
            "Epoch 76/200\n",
            "469/469 [==============================] - 2s 4ms/step - loss: 0.0089 - accuracy: 0.9986 - val_loss: 0.2533 - val_accuracy: 0.9848\n",
            "Epoch 77/200\n",
            "469/469 [==============================] - 2s 4ms/step - loss: 0.0094 - accuracy: 0.9986 - val_loss: 0.2578 - val_accuracy: 0.9841\n",
            "Epoch 78/200\n",
            "469/469 [==============================] - 2s 4ms/step - loss: 0.0095 - accuracy: 0.9986 - val_loss: 0.2672 - val_accuracy: 0.9834\n",
            "Epoch 79/200\n",
            "469/469 [==============================] - 2s 4ms/step - loss: 0.0079 - accuracy: 0.9986 - val_loss: 0.2435 - val_accuracy: 0.9840\n",
            "Epoch 80/200\n",
            "469/469 [==============================] - 2s 4ms/step - loss: 0.0089 - accuracy: 0.9985 - val_loss: 0.2687 - val_accuracy: 0.9829\n",
            "Epoch 81/200\n",
            "469/469 [==============================] - 2s 4ms/step - loss: 0.0085 - accuracy: 0.9986 - val_loss: 0.2588 - val_accuracy: 0.9843\n",
            "Epoch 82/200\n",
            "469/469 [==============================] - 2s 4ms/step - loss: 0.0071 - accuracy: 0.9987 - val_loss: 0.2551 - val_accuracy: 0.9840\n",
            "Epoch 83/200\n",
            "469/469 [==============================] - 2s 4ms/step - loss: 0.0062 - accuracy: 0.9988 - val_loss: 0.2830 - val_accuracy: 0.9826\n",
            "Epoch 84/200\n",
            "469/469 [==============================] - 2s 4ms/step - loss: 0.0065 - accuracy: 0.9987 - val_loss: 0.2805 - val_accuracy: 0.9827\n",
            "Epoch 85/200\n",
            "469/469 [==============================] - 2s 4ms/step - loss: 0.0092 - accuracy: 0.9984 - val_loss: 0.2527 - val_accuracy: 0.9844\n",
            "Epoch 86/200\n",
            "469/469 [==============================] - 2s 4ms/step - loss: 0.0061 - accuracy: 0.9989 - val_loss: 0.2718 - val_accuracy: 0.9843\n",
            "Epoch 87/200\n",
            "469/469 [==============================] - 2s 4ms/step - loss: 0.0077 - accuracy: 0.9986 - val_loss: 0.2690 - val_accuracy: 0.9844\n",
            "Epoch 88/200\n",
            "469/469 [==============================] - 2s 4ms/step - loss: 0.0090 - accuracy: 0.9985 - val_loss: 0.2716 - val_accuracy: 0.9850\n",
            "Epoch 89/200\n",
            "469/469 [==============================] - 2s 4ms/step - loss: 0.0079 - accuracy: 0.9986 - val_loss: 0.2905 - val_accuracy: 0.9824\n",
            "Epoch 90/200\n",
            "469/469 [==============================] - 2s 4ms/step - loss: 0.0084 - accuracy: 0.9987 - val_loss: 0.2468 - val_accuracy: 0.9838\n",
            "Epoch 91/200\n",
            "469/469 [==============================] - 2s 4ms/step - loss: 0.0064 - accuracy: 0.9987 - val_loss: 0.2470 - val_accuracy: 0.9848\n",
            "Epoch 92/200\n",
            "469/469 [==============================] - 2s 4ms/step - loss: 0.0103 - accuracy: 0.9984 - val_loss: 0.2572 - val_accuracy: 0.9843\n",
            "Epoch 93/200\n",
            "469/469 [==============================] - 2s 4ms/step - loss: 0.0075 - accuracy: 0.9988 - val_loss: 0.2566 - val_accuracy: 0.9847\n",
            "Epoch 94/200\n",
            "469/469 [==============================] - 2s 4ms/step - loss: 0.0079 - accuracy: 0.9987 - val_loss: 0.2702 - val_accuracy: 0.9838\n",
            "Epoch 95/200\n",
            "469/469 [==============================] - 2s 4ms/step - loss: 0.0063 - accuracy: 0.9988 - val_loss: 0.2607 - val_accuracy: 0.9836\n",
            "Epoch 96/200\n",
            "469/469 [==============================] - 2s 4ms/step - loss: 0.0079 - accuracy: 0.9987 - val_loss: 0.2507 - val_accuracy: 0.9842\n",
            "Epoch 97/200\n",
            "469/469 [==============================] - 2s 4ms/step - loss: 0.0063 - accuracy: 0.9987 - val_loss: 0.2782 - val_accuracy: 0.9843\n",
            "Epoch 98/200\n",
            "469/469 [==============================] - 2s 4ms/step - loss: 0.0055 - accuracy: 0.9990 - val_loss: 0.2799 - val_accuracy: 0.9840\n",
            "Epoch 99/200\n",
            "469/469 [==============================] - 2s 4ms/step - loss: 0.0073 - accuracy: 0.9988 - val_loss: 0.2989 - val_accuracy: 0.9821\n",
            "Epoch 100/200\n",
            "469/469 [==============================] - 2s 4ms/step - loss: 0.0103 - accuracy: 0.9985 - val_loss: 0.3334 - val_accuracy: 0.9839\n",
            "Epoch 101/200\n",
            "469/469 [==============================] - 2s 4ms/step - loss: 0.0086 - accuracy: 0.9986 - val_loss: 0.2695 - val_accuracy: 0.9840\n",
            "Epoch 102/200\n",
            "469/469 [==============================] - 2s 4ms/step - loss: 0.0073 - accuracy: 0.9988 - val_loss: 0.2657 - val_accuracy: 0.9848\n",
            "Epoch 103/200\n",
            "469/469 [==============================] - 2s 4ms/step - loss: 0.0107 - accuracy: 0.9986 - val_loss: 0.2939 - val_accuracy: 0.9845\n",
            "Epoch 104/200\n",
            "469/469 [==============================] - 2s 4ms/step - loss: 0.0076 - accuracy: 0.9989 - val_loss: 0.2998 - val_accuracy: 0.9831\n",
            "Epoch 105/200\n",
            "469/469 [==============================] - 2s 4ms/step - loss: 0.0092 - accuracy: 0.9985 - val_loss: 0.3161 - val_accuracy: 0.9825\n",
            "Epoch 106/200\n",
            "469/469 [==============================] - 2s 4ms/step - loss: 0.0073 - accuracy: 0.9987 - val_loss: 0.2934 - val_accuracy: 0.9849\n",
            "Epoch 107/200\n",
            "469/469 [==============================] - 2s 4ms/step - loss: 0.0072 - accuracy: 0.9990 - val_loss: 0.3058 - val_accuracy: 0.9851\n",
            "Epoch 108/200\n",
            "469/469 [==============================] - 2s 4ms/step - loss: 0.0113 - accuracy: 0.9985 - val_loss: 0.3173 - val_accuracy: 0.9838\n",
            "Epoch 109/200\n",
            "469/469 [==============================] - 2s 4ms/step - loss: 0.0071 - accuracy: 0.9988 - val_loss: 0.2950 - val_accuracy: 0.9850\n",
            "Epoch 110/200\n",
            "469/469 [==============================] - 2s 4ms/step - loss: 0.0067 - accuracy: 0.9990 - val_loss: 0.3275 - val_accuracy: 0.9834\n",
            "Epoch 111/200\n",
            "469/469 [==============================] - 2s 4ms/step - loss: 0.0090 - accuracy: 0.9987 - val_loss: 0.2726 - val_accuracy: 0.9845\n",
            "Epoch 112/200\n",
            "469/469 [==============================] - 2s 4ms/step - loss: 0.0058 - accuracy: 0.9990 - val_loss: 0.3080 - val_accuracy: 0.9839\n",
            "Epoch 113/200\n",
            "469/469 [==============================] - 2s 4ms/step - loss: 0.0061 - accuracy: 0.9990 - val_loss: 0.3063 - val_accuracy: 0.9852\n",
            "Epoch 114/200\n",
            "469/469 [==============================] - 2s 4ms/step - loss: 0.0074 - accuracy: 0.9988 - val_loss: 0.3018 - val_accuracy: 0.9841\n",
            "Epoch 115/200\n",
            "469/469 [==============================] - 2s 4ms/step - loss: 0.0070 - accuracy: 0.9990 - val_loss: 0.3253 - val_accuracy: 0.9845\n",
            "Epoch 116/200\n",
            "469/469 [==============================] - 2s 4ms/step - loss: 0.0059 - accuracy: 0.9988 - val_loss: 0.3017 - val_accuracy: 0.9843\n",
            "Epoch 117/200\n",
            "469/469 [==============================] - 2s 4ms/step - loss: 0.0070 - accuracy: 0.9989 - val_loss: 0.3092 - val_accuracy: 0.9841\n",
            "Epoch 118/200\n",
            "469/469 [==============================] - 2s 4ms/step - loss: 0.0066 - accuracy: 0.9991 - val_loss: 0.3205 - val_accuracy: 0.9839\n",
            "Epoch 119/200\n",
            "469/469 [==============================] - 2s 4ms/step - loss: 0.0062 - accuracy: 0.9989 - val_loss: 0.3242 - val_accuracy: 0.9843\n",
            "Epoch 120/200\n",
            "469/469 [==============================] - 2s 4ms/step - loss: 0.0086 - accuracy: 0.9989 - val_loss: 0.3129 - val_accuracy: 0.9838\n",
            "Epoch 121/200\n",
            "469/469 [==============================] - 2s 4ms/step - loss: 0.0062 - accuracy: 0.9989 - val_loss: 0.3207 - val_accuracy: 0.9846\n",
            "Epoch 122/200\n",
            "469/469 [==============================] - 2s 4ms/step - loss: 0.0078 - accuracy: 0.9989 - val_loss: 0.3116 - val_accuracy: 0.9845\n",
            "Epoch 123/200\n",
            "469/469 [==============================] - 2s 4ms/step - loss: 0.0068 - accuracy: 0.9989 - val_loss: 0.3105 - val_accuracy: 0.9844\n",
            "Epoch 124/200\n",
            "469/469 [==============================] - 2s 4ms/step - loss: 0.0085 - accuracy: 0.9988 - val_loss: 0.3104 - val_accuracy: 0.9846\n",
            "Epoch 125/200\n",
            "469/469 [==============================] - 2s 4ms/step - loss: 0.0070 - accuracy: 0.9993 - val_loss: 0.3231 - val_accuracy: 0.9842\n",
            "Epoch 126/200\n",
            "469/469 [==============================] - 2s 4ms/step - loss: 0.0081 - accuracy: 0.9988 - val_loss: 0.3038 - val_accuracy: 0.9843\n",
            "Epoch 127/200\n",
            "469/469 [==============================] - 2s 4ms/step - loss: 0.0076 - accuracy: 0.9991 - val_loss: 0.3521 - val_accuracy: 0.9840\n",
            "Epoch 128/200\n",
            "469/469 [==============================] - 2s 4ms/step - loss: 0.0084 - accuracy: 0.9991 - val_loss: 0.3264 - val_accuracy: 0.9846\n",
            "Epoch 129/200\n",
            "469/469 [==============================] - 2s 4ms/step - loss: 0.0067 - accuracy: 0.9991 - val_loss: 0.3324 - val_accuracy: 0.9854\n",
            "Epoch 130/200\n",
            "469/469 [==============================] - 2s 4ms/step - loss: 0.0090 - accuracy: 0.9990 - val_loss: 0.3236 - val_accuracy: 0.9847\n",
            "Epoch 131/200\n",
            "469/469 [==============================] - 2s 4ms/step - loss: 0.0066 - accuracy: 0.9990 - val_loss: 0.3199 - val_accuracy: 0.9845\n",
            "Epoch 132/200\n",
            "469/469 [==============================] - 2s 4ms/step - loss: 0.0069 - accuracy: 0.9990 - val_loss: 0.3534 - val_accuracy: 0.9835\n",
            "Epoch 133/200\n",
            "469/469 [==============================] - 2s 4ms/step - loss: 0.0056 - accuracy: 0.9992 - val_loss: 0.3392 - val_accuracy: 0.9838\n",
            "Epoch 134/200\n",
            "469/469 [==============================] - 2s 4ms/step - loss: 0.0068 - accuracy: 0.9990 - val_loss: 0.3115 - val_accuracy: 0.9836\n",
            "Epoch 135/200\n",
            "469/469 [==============================] - 2s 4ms/step - loss: 0.0055 - accuracy: 0.9990 - val_loss: 0.3084 - val_accuracy: 0.9840\n",
            "Epoch 136/200\n",
            "469/469 [==============================] - 2s 4ms/step - loss: 0.0055 - accuracy: 0.9992 - val_loss: 0.3485 - val_accuracy: 0.9840\n",
            "Epoch 137/200\n",
            "469/469 [==============================] - 2s 4ms/step - loss: 0.0088 - accuracy: 0.9989 - val_loss: 0.3194 - val_accuracy: 0.9842\n",
            "Epoch 138/200\n",
            "469/469 [==============================] - 2s 4ms/step - loss: 0.0063 - accuracy: 0.9991 - val_loss: 0.3474 - val_accuracy: 0.9833\n",
            "Epoch 139/200\n",
            "469/469 [==============================] - 2s 4ms/step - loss: 0.0069 - accuracy: 0.9991 - val_loss: 0.3220 - val_accuracy: 0.9847\n",
            "Epoch 140/200\n",
            "469/469 [==============================] - 2s 4ms/step - loss: 0.0061 - accuracy: 0.9991 - val_loss: 0.3334 - val_accuracy: 0.9834\n",
            "Epoch 141/200\n",
            "469/469 [==============================] - 2s 4ms/step - loss: 0.0047 - accuracy: 0.9992 - val_loss: 0.3057 - val_accuracy: 0.9849\n",
            "Epoch 142/200\n",
            "469/469 [==============================] - 2s 4ms/step - loss: 0.0075 - accuracy: 0.9991 - val_loss: 0.3547 - val_accuracy: 0.9845\n",
            "Epoch 143/200\n",
            "469/469 [==============================] - 2s 4ms/step - loss: 0.0055 - accuracy: 0.9991 - val_loss: 0.3430 - val_accuracy: 0.9846\n",
            "Epoch 144/200\n",
            "469/469 [==============================] - 2s 4ms/step - loss: 0.0074 - accuracy: 0.9990 - val_loss: 0.3143 - val_accuracy: 0.9835\n",
            "Epoch 145/200\n",
            "469/469 [==============================] - 2s 4ms/step - loss: 0.0037 - accuracy: 0.9992 - val_loss: 0.3497 - val_accuracy: 0.9837\n",
            "Epoch 146/200\n",
            "469/469 [==============================] - 2s 4ms/step - loss: 0.0059 - accuracy: 0.9990 - val_loss: 0.3207 - val_accuracy: 0.9844\n",
            "Epoch 147/200\n",
            "469/469 [==============================] - 2s 4ms/step - loss: 0.0061 - accuracy: 0.9992 - val_loss: 0.3331 - val_accuracy: 0.9841\n",
            "Epoch 148/200\n",
            "469/469 [==============================] - 2s 4ms/step - loss: 0.0081 - accuracy: 0.9987 - val_loss: 0.3233 - val_accuracy: 0.9852\n",
            "Epoch 149/200\n",
            "469/469 [==============================] - 2s 4ms/step - loss: 0.0060 - accuracy: 0.9991 - val_loss: 0.3640 - val_accuracy: 0.9835\n",
            "Epoch 150/200\n",
            "469/469 [==============================] - 2s 4ms/step - loss: 0.0050 - accuracy: 0.9992 - val_loss: 0.3354 - val_accuracy: 0.9857\n",
            "Epoch 151/200\n",
            "469/469 [==============================] - 2s 4ms/step - loss: 0.0046 - accuracy: 0.9992 - val_loss: 0.3800 - val_accuracy: 0.9839\n",
            "Epoch 152/200\n",
            "469/469 [==============================] - 2s 4ms/step - loss: 0.0071 - accuracy: 0.9991 - val_loss: 0.3312 - val_accuracy: 0.9851\n",
            "Epoch 153/200\n",
            "469/469 [==============================] - 2s 4ms/step - loss: 0.0073 - accuracy: 0.9990 - val_loss: 0.3179 - val_accuracy: 0.9846\n",
            "Epoch 154/200\n",
            "469/469 [==============================] - 2s 4ms/step - loss: 0.0084 - accuracy: 0.9988 - val_loss: 0.3196 - val_accuracy: 0.9845\n",
            "Epoch 155/200\n",
            "469/469 [==============================] - 2s 4ms/step - loss: 0.0060 - accuracy: 0.9991 - val_loss: 0.3387 - val_accuracy: 0.9855\n",
            "Epoch 156/200\n",
            "469/469 [==============================] - 2s 4ms/step - loss: 0.0056 - accuracy: 0.9991 - val_loss: 0.3354 - val_accuracy: 0.9850\n",
            "Epoch 157/200\n",
            "469/469 [==============================] - 2s 4ms/step - loss: 0.0052 - accuracy: 0.9993 - val_loss: 0.3526 - val_accuracy: 0.9841\n",
            "Epoch 158/200\n",
            "469/469 [==============================] - 2s 4ms/step - loss: 0.0095 - accuracy: 0.9988 - val_loss: 0.3263 - val_accuracy: 0.9851\n",
            "Epoch 159/200\n",
            "469/469 [==============================] - 2s 4ms/step - loss: 0.0060 - accuracy: 0.9991 - val_loss: 0.3193 - val_accuracy: 0.9854\n",
            "Epoch 160/200\n",
            "469/469 [==============================] - 2s 4ms/step - loss: 0.0078 - accuracy: 0.9991 - val_loss: 0.3541 - val_accuracy: 0.9846\n",
            "Epoch 161/200\n",
            "469/469 [==============================] - 2s 4ms/step - loss: 0.0059 - accuracy: 0.9990 - val_loss: 0.3574 - val_accuracy: 0.9841\n",
            "Epoch 162/200\n",
            "469/469 [==============================] - 2s 4ms/step - loss: 0.0049 - accuracy: 0.9994 - val_loss: 0.3318 - val_accuracy: 0.9853\n",
            "Epoch 163/200\n",
            "469/469 [==============================] - 2s 4ms/step - loss: 0.0053 - accuracy: 0.9993 - val_loss: 0.3370 - val_accuracy: 0.9852\n",
            "Epoch 164/200\n",
            "469/469 [==============================] - 2s 4ms/step - loss: 0.0063 - accuracy: 0.9991 - val_loss: 0.3057 - val_accuracy: 0.9851\n",
            "Epoch 165/200\n",
            "469/469 [==============================] - 2s 4ms/step - loss: 0.0054 - accuracy: 0.9993 - val_loss: 0.3256 - val_accuracy: 0.9852\n",
            "Epoch 166/200\n",
            "469/469 [==============================] - 2s 4ms/step - loss: 0.0050 - accuracy: 0.9993 - val_loss: 0.3630 - val_accuracy: 0.9844\n",
            "Epoch 167/200\n",
            "469/469 [==============================] - 2s 4ms/step - loss: 0.0057 - accuracy: 0.9991 - val_loss: 0.3682 - val_accuracy: 0.9834\n",
            "Epoch 168/200\n",
            "469/469 [==============================] - 2s 4ms/step - loss: 0.0096 - accuracy: 0.9990 - val_loss: 0.3187 - val_accuracy: 0.9866\n",
            "Epoch 169/200\n",
            "469/469 [==============================] - 2s 4ms/step - loss: 0.0068 - accuracy: 0.9991 - val_loss: 0.3691 - val_accuracy: 0.9832\n",
            "Epoch 170/200\n",
            "469/469 [==============================] - 2s 4ms/step - loss: 0.0077 - accuracy: 0.9991 - val_loss: 0.3679 - val_accuracy: 0.9832\n",
            "Epoch 171/200\n",
            "469/469 [==============================] - 2s 4ms/step - loss: 0.0081 - accuracy: 0.9993 - val_loss: 0.3482 - val_accuracy: 0.9844\n",
            "Epoch 172/200\n",
            "469/469 [==============================] - 2s 4ms/step - loss: 0.0056 - accuracy: 0.9992 - val_loss: 0.3274 - val_accuracy: 0.9843\n",
            "Epoch 173/200\n",
            "469/469 [==============================] - 2s 4ms/step - loss: 0.0051 - accuracy: 0.9992 - val_loss: 0.3537 - val_accuracy: 0.9840\n",
            "Epoch 174/200\n",
            "469/469 [==============================] - 2s 4ms/step - loss: 0.0043 - accuracy: 0.9993 - val_loss: 0.4072 - val_accuracy: 0.9834\n",
            "Epoch 175/200\n",
            "469/469 [==============================] - 2s 4ms/step - loss: 0.0068 - accuracy: 0.9991 - val_loss: 0.3551 - val_accuracy: 0.9842\n",
            "Epoch 176/200\n",
            "469/469 [==============================] - 2s 4ms/step - loss: 0.0058 - accuracy: 0.9991 - val_loss: 0.3420 - val_accuracy: 0.9853\n",
            "Epoch 177/200\n",
            "469/469 [==============================] - 2s 4ms/step - loss: 0.0064 - accuracy: 0.9992 - val_loss: 0.3583 - val_accuracy: 0.9844\n",
            "Epoch 178/200\n",
            "469/469 [==============================] - 2s 4ms/step - loss: 0.0082 - accuracy: 0.9988 - val_loss: 0.3744 - val_accuracy: 0.9840\n",
            "Epoch 179/200\n",
            "469/469 [==============================] - 2s 4ms/step - loss: 0.0073 - accuracy: 0.9991 - val_loss: 0.3528 - val_accuracy: 0.9844\n",
            "Epoch 180/200\n",
            "469/469 [==============================] - 2s 4ms/step - loss: 0.0054 - accuracy: 0.9993 - val_loss: 0.3545 - val_accuracy: 0.9845\n",
            "Epoch 181/200\n",
            "469/469 [==============================] - 2s 4ms/step - loss: 0.0051 - accuracy: 0.9993 - val_loss: 0.3713 - val_accuracy: 0.9841\n",
            "Epoch 182/200\n",
            "469/469 [==============================] - 2s 4ms/step - loss: 0.0064 - accuracy: 0.9991 - val_loss: 0.3414 - val_accuracy: 0.9842\n",
            "Epoch 183/200\n",
            "469/469 [==============================] - 2s 4ms/step - loss: 0.0048 - accuracy: 0.9993 - val_loss: 0.3519 - val_accuracy: 0.9830\n",
            "Epoch 184/200\n",
            "469/469 [==============================] - 2s 4ms/step - loss: 0.0052 - accuracy: 0.9993 - val_loss: 0.3529 - val_accuracy: 0.9852\n",
            "Epoch 185/200\n",
            "469/469 [==============================] - 2s 4ms/step - loss: 0.0070 - accuracy: 0.9992 - val_loss: 0.3430 - val_accuracy: 0.9847\n",
            "Epoch 186/200\n",
            "469/469 [==============================] - 2s 4ms/step - loss: 0.0053 - accuracy: 0.9993 - val_loss: 0.3736 - val_accuracy: 0.9836\n",
            "Epoch 187/200\n",
            "469/469 [==============================] - 2s 4ms/step - loss: 0.0042 - accuracy: 0.9992 - val_loss: 0.3953 - val_accuracy: 0.9829\n",
            "Epoch 188/200\n",
            "469/469 [==============================] - 2s 4ms/step - loss: 0.0062 - accuracy: 0.9992 - val_loss: 0.3856 - val_accuracy: 0.9826\n",
            "Epoch 189/200\n",
            "469/469 [==============================] - 2s 4ms/step - loss: 0.0035 - accuracy: 0.9994 - val_loss: 0.3800 - val_accuracy: 0.9839\n",
            "Epoch 190/200\n",
            "469/469 [==============================] - 2s 4ms/step - loss: 0.0073 - accuracy: 0.9992 - val_loss: 0.3699 - val_accuracy: 0.9846\n",
            "Epoch 191/200\n",
            "469/469 [==============================] - 2s 4ms/step - loss: 0.0072 - accuracy: 0.9992 - val_loss: 0.3631 - val_accuracy: 0.9846\n",
            "Epoch 192/200\n",
            "469/469 [==============================] - 2s 4ms/step - loss: 0.0043 - accuracy: 0.9994 - val_loss: 0.4073 - val_accuracy: 0.9836\n",
            "Epoch 193/200\n",
            "469/469 [==============================] - 2s 4ms/step - loss: 0.0047 - accuracy: 0.9993 - val_loss: 0.3787 - val_accuracy: 0.9842\n",
            "Epoch 194/200\n",
            "469/469 [==============================] - 2s 4ms/step - loss: 0.0045 - accuracy: 0.9994 - val_loss: 0.4034 - val_accuracy: 0.9845\n",
            "Epoch 195/200\n",
            "469/469 [==============================] - 2s 4ms/step - loss: 0.0053 - accuracy: 0.9994 - val_loss: 0.3776 - val_accuracy: 0.9847\n",
            "Epoch 196/200\n",
            "469/469 [==============================] - 2s 4ms/step - loss: 0.0056 - accuracy: 0.9994 - val_loss: 0.3901 - val_accuracy: 0.9850\n",
            "Epoch 197/200\n",
            "469/469 [==============================] - 2s 4ms/step - loss: 0.0041 - accuracy: 0.9995 - val_loss: 0.3592 - val_accuracy: 0.9847\n",
            "Epoch 198/200\n",
            "469/469 [==============================] - 2s 4ms/step - loss: 0.0057 - accuracy: 0.9992 - val_loss: 0.3509 - val_accuracy: 0.9846\n",
            "Epoch 199/200\n",
            "469/469 [==============================] - 2s 4ms/step - loss: 0.0026 - accuracy: 0.9995 - val_loss: 0.3861 - val_accuracy: 0.9848\n",
            "Epoch 200/200\n",
            "469/469 [==============================] - 2s 4ms/step - loss: 0.0037 - accuracy: 0.9995 - val_loss: 0.3714 - val_accuracy: 0.9849\n"
          ]
        }
      ]
    },
    {
      "cell_type": "code",
      "source": [
        "model.save('Mnist_ANN.h5')"
      ],
      "metadata": {
        "id": "lwONFNViMKNR"
      },
      "execution_count": null,
      "outputs": []
    },
    {
      "cell_type": "code",
      "source": [
        "score = model.evaluate(X_test, y_test, verbose = 1)"
      ],
      "metadata": {
        "colab": {
          "base_uri": "https://localhost:8080/"
        },
        "id": "7VvkO4kPNvlE",
        "outputId": "55c605de-7326-406a-b550-0e308c38d104"
      },
      "execution_count": null,
      "outputs": [
        {
          "output_type": "stream",
          "name": "stdout",
          "text": [
            "313/313 [==============================] - 1s 2ms/step - loss: 0.3714 - accuracy: 0.9849\n"
          ]
        }
      ]
    },
    {
      "cell_type": "code",
      "source": [
        "print('Test loss=', score[0])\n",
        "print('Test accuracy=', score[1])"
      ],
      "metadata": {
        "colab": {
          "base_uri": "https://localhost:8080/"
        },
        "id": "zEyMPU2PN6jt",
        "outputId": "023c908c-6ccd-4d26-8efb-ca0785ea19c1"
      },
      "execution_count": null,
      "outputs": [
        {
          "output_type": "stream",
          "name": "stdout",
          "text": [
            "Test loss= 0.3713713586330414\n",
            "Test accuracy= 0.9848999977111816\n"
          ]
        }
      ]
    },
    {
      "cell_type": "code",
      "source": [
        "import matplotlib.pyplot as plt"
      ],
      "metadata": {
        "id": "UpY3uIAjOEQB"
      },
      "execution_count": null,
      "outputs": []
    },
    {
      "cell_type": "code",
      "source": [
        "plt.plot(history.history['accuracy'])\n",
        "plt.plot(history.history['val_accuracy'])\n",
        "plt.title('Model Accuracy')\n",
        "plt.ylabel('accuracy')\n",
        "plt.xlabel('eposch')\n",
        "plt.legend(['train','validation'], loc = 'upper left')"
      ],
      "metadata": {
        "colab": {
          "base_uri": "https://localhost:8080/",
          "height": 312
        },
        "id": "SJbzTWuBOI6t",
        "outputId": "80d523ff-7bf9-4b62-b94c-a2bbe8060dd8"
      },
      "execution_count": null,
      "outputs": [
        {
          "output_type": "execute_result",
          "data": {
            "text/plain": [
              "<matplotlib.legend.Legend at 0x7f4456be1650>"
            ]
          },
          "metadata": {},
          "execution_count": 13
        },
        {
          "output_type": "display_data",
          "data": {
            "text/plain": [
              "<Figure size 432x288 with 1 Axes>"
            ],
            "image/png": "[encoded data removed]"
          },
          "metadata": {
            "needs_background": "light"
          }
        }
      ]
    },
    {
      "cell_type": "code",
      "source": [
        "from google.colab import drive\n",
        "drive.mount('/content/drive')\n",
        "!wget -nc https://raw.githubusercontent.com/brpy/colab-pdf/master/colab_pdf.py\n",
        "from colab_pdf import colab_pdf\n",
        "colab_pdf('Mnist_ANN.ipynb')"
      ],
      "metadata": {
        "colab": {
          "base_uri": "https://localhost:8080/",
          "height": 556
        },
        "id": "w3IcroupOMgP",
        "outputId": "93c7a981-3c6b-47c9-878f-ca6419b2e13b"
      },
      "execution_count": null,
      "outputs": [
        {
          "output_type": "stream",
          "name": "stdout",
          "text": [
            "Mounted at /content/drive\n",
            "--2022-05-18 03:33:29--  https://raw.githubusercontent.com/brpy/colab-pdf/master/colab_pdf.py\n",
            "Resolving raw.githubusercontent.com (raw.githubusercontent.com)... 185.199.109.133, 185.199.110.133, 185.199.108.133, ...\n",
            "Connecting to raw.githubusercontent.com (raw.githubusercontent.com)|185.199.109.133|:443... connected.\n",
            "HTTP request sent, awaiting response... 200 OK\n",
            "Length: 1864 (1.8K) [text/plain]\n",
            "Saving to: ‘colab_pdf.py’\n",
            "\n",
            "colab_pdf.py        100%[===================>]   1.82K  --.-KB/s    in 0s      \n",
            "\n",
            "2022-05-18 03:33:29 (39.7 MB/s) - ‘colab_pdf.py’ saved [1864/1864]\n",
            "\n",
            "\n",
            "WARNING: apt does not have a stable CLI interface. Use with caution in scripts.\n",
            "\n",
            "\n",
            "WARNING: apt does not have a stable CLI interface. Use with caution in scripts.\n",
            "\n",
            "Extracting templates from packages: 100%\n",
            "[NbConvertApp] Converting notebook /content/drive/MyDrive/Colab Notebooks/Mnist_ANN.ipynb to pdf\n",
            "[NbConvertApp] Support files will be in Mnist_ANN_files/\n",
            "[NbConvertApp] Making directory ./Mnist_ANN_files\n",
            "[NbConvertApp] Making directory ./Mnist_ANN_files\n",
            "[NbConvertApp] Writing 62630 bytes to ./notebook.tex\n",
            "[NbConvertApp] Building PDF\n",
            "[NbConvertApp] Running xelatex 3 times: ['xelatex', './notebook.tex', '-quiet']\n",
            "[NbConvertApp] Running bibtex 1 time: ['bibtex', './notebook']\n",
            "[NbConvertApp] WARNING | bibtex had problems, most likely because there were no citations\n",
            "[NbConvertApp] PDF successfully created\n",
            "[NbConvertApp] Writing 76021 bytes to /content/drive/My Drive/Mnist_ANN.pdf\n"
          ]
        },
        {
          "output_type": "display_data",
          "data": {
            "text/plain": [
              "<IPython.core.display.Javascript object>"
            ],
            "application/javascript": [
              "\n",
              "    async function download(id, filename, size) {\n",
              "      if (!google.colab.kernel.accessAllowed) {\n",
              "        return;\n",
              "      }\n",
              "      const div = document.createElement('div');\n",
              "      const label = document.createElement('label');\n",
              "      label.textContent = `Downloading \"${filename}\": `;\n",
              "      div.appendChild(label);\n",
              "      const progress = document.createElement('progress');\n",
              "      progress.max = size;\n",
              "      div.appendChild(progress);\n",
              "      document.body.appendChild(div);\n",
              "\n",
              "      const buffers = [];\n",
              "      let downloaded = 0;\n",
              "\n",
              "      const channel = await google.colab.kernel.comms.open(id);\n",
              "      // Send a message to notify the kernel that we're ready.\n",
              "      channel.send({})\n",
              "\n",
              "      for await (const message of channel.messages) {\n",
              "        // Send a message to notify the kernel that we're ready.\n",
              "        channel.send({})\n",
              "        if (message.buffers) {\n",
              "          for (const buffer of message.buffers) {\n",
              "            buffers.push(buffer);\n",
              "            downloaded += buffer.byteLength;\n",
              "            progress.value = downloaded;\n",
              "          }\n",
              "        }\n",
              "      }\n",
              "      const blob = new Blob(buffers, {type: 'application/binary'});\n",
              "      const a = document.createElement('a');\n",
              "      a.href = window.URL.createObjectURL(blob);\n",
              "      a.download = filename;\n",
              "      div.appendChild(a);\n",
              "      a.click();\n",
              "      div.remove();\n",
              "    }\n",
              "  "
            ]
          },
          "metadata": {}
        },
        {
          "output_type": "display_data",
          "data": {
            "text/plain": [
              "<IPython.core.display.Javascript object>"
            ],
            "application/javascript": [
              "download(\"download_b904b484-3121-4c83-9ff6-d00039eca4d7\", \"Mnist_ANN.pdf\", 76021)"
            ]
          },
          "metadata": {}
        },
        {
          "output_type": "execute_result",
          "data": {
            "text/plain": [
              "'File ready to be Downloaded and Saved to Drive'"
            ],
            "application/vnd.google.colaboratory.intrinsic+json": {
              "type": "string"
            }
          },
          "metadata": {},
          "execution_count": 14
        }
      ]
    },
    {
      "cell_type": "code",
      "source": [
        ""
      ],
      "metadata": {
        "id": "JfCmqsViOeOQ"
      },
      "execution_count": null,
      "outputs": []
    }
  ]
}